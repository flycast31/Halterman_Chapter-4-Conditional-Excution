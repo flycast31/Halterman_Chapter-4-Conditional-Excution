{
 "cells": [
  {
   "cell_type": "markdown",
   "metadata": {},
   "source": [
    "# Halterman_Chapter 4: Conditional Excution"
   ]
  },
  {
   "cell_type": "markdown",
   "metadata": {},
   "source": [
    "The if statement (simple)"
   ]
  },
  {
   "cell_type": "code",
   "execution_count": null,
   "metadata": {
    "collapsed": true
   },
   "outputs": [],
   "source": [
    "# Listing 4.2: betterdivision.py (02-24-2018)\n",
    "\n",
    "# Request two integers from the user.\n",
    "print('Please enter two numbers to divide')\n",
    "dividend = int(input('Please enter a dividend: '))\n",
    "divisor = int(input('Please enter a divisor: '))\n",
    "\n",
    "# If possible, divide them and report the result.\n",
    "if divisor != 0:\n",
    "    quotient = dividend/divisor\n",
    "    print(divident, '/', divisor, \"=\", quotient)\n",
    "# Note: that this program does not inform the user that something is wrong if \"0\" is \n",
    "# entered as a divisor!"
   ]
  },
  {
   "cell_type": "code",
   "execution_count": 5,
   "metadata": {},
   "outputs": [
    {
     "name": "stdout",
     "output_type": "stream",
     "text": [
      "Please enter two numbers to divide\n",
      "Please enter a dividend: 10\n",
      "Please enter a divisor: 0\n",
      "Program finished\n"
     ]
    }
   ],
   "source": [
    "# Listing 4.3: alternatedivision.py (02-24-2018)\n",
    "\n",
    "# Request two integers from the user.\n",
    "print('Please enter two numbers to divide')\n",
    "dividend = int(input('Please enter a dividend: '))\n",
    "divisor = int(input('Please enter a divisor: '))\n",
    "\n",
    "# If possible, divide them and report the result.\n",
    "if divisor != 0:\n",
    "    quotient = dividend/divisor\n",
    "    print(divident, '/', divisor, \"=\", quotient)\n",
    "print('Program finished')\n",
    "# In this alternate from the program above the user is notified that the program has finished. \n",
    "# However, the user still is not informed that \"0\" was entered as a divisor and, thus, not \n",
    "# returned result."
   ]
  },
  {
   "cell_type": "code",
   "execution_count": 12,
   "metadata": {},
   "outputs": [
    {
     "name": "stdout",
     "output_type": "stream",
     "text": [
      "Please enter an integer in the range of 0...9999: 38\n",
      "[0038]\n"
     ]
    }
   ],
   "source": [
    "# Request input from the user. (02-24-2018)\n",
    "num = int(input('Please enter an integer in the range of 0...9999: '))\n",
    "\n",
    "# Attenuate(make smaller) the number if necessary.\n",
    "if num < 0:    # Make sure the number is not too small - i.e. less than \"0\".\n",
    "    num = 0\n",
    "if num > 9999: # Make sure the number is not too big - i.e. greater than 9999.\n",
    "    num = 9999\n",
    "\n",
    "print(end=\"[\") # Print left brace.\n",
    "\n",
    "# Extract and print the thousands-place digit.\n",
    "digit = num//1000    # The \"floor\" of the number when divided by 1000.\n",
    "print(digit, end=\"\") # Print the thousands-place digit. \n",
    "num %= 1000          # Discard thousands-place digit. Keep remainder when divided by 1000. Short for\n",
    "                     # num = num % 1000\n",
    "\n",
    "# Extract and print hundreds-place digit\n",
    "digit = num//100     # The \"floor\" of the number when divided by 100.\n",
    "print(digit, end=\"\") # Print the hundreds-place digit.\n",
    "num %= 100           # Discard hundreds-place digit. Keep remainder when divided by 100.\n",
    "\n",
    "# Extact and print the tens-place digit.\n",
    "digit = num//10        # The \"floor\" of the number when divided by 10.\n",
    "print(digit, end=\"\")\n",
    "num %= 10\n",
    "\n",
    "# Remainder is the one-place digit.\n",
    "print(num, end=\"\")\n",
    "\n",
    "print(\"]\")"
   ]
  },
  {
   "cell_type": "markdown",
   "metadata": {},
   "source": [
    "The if/else statement."
   ]
  },
  {
   "cell_type": "code",
   "execution_count": 13,
   "metadata": {},
   "outputs": [
    {
     "name": "stdout",
     "output_type": "stream",
     "text": [
      "Please enter a divident: 20\n",
      "Please enter a divisor: 0\n",
      "Division by zero is undefined\n"
     ]
    }
   ],
   "source": [
    "# Listing 4.5: betterfeedback.py of prior division programs (02-24-2018)\n",
    "\n",
    "# Request two integers from the user.\n",
    "dividend = int(input('Please enter a dividend: '))\n",
    "divisor = int(input('Please enter a divisor: '))\n",
    "\n",
    "# If possible, divide the integers and report the result.\n",
    "if divisor != 0:\n",
    "    print(dividend, '/', divisor, \"=\", dividend/divisor)\n",
    "else:\n",
    "    print('Division by zero is undefined') # Finally, the user knows if \"0\" was entered!"
   ]
  },
  {
   "cell_type": "code",
   "execution_count": 6,
   "metadata": {},
   "outputs": [
    {
     "name": "stdout",
     "output_type": "stream",
     "text": [
      "False\n"
     ]
    }
   ],
   "source": [
    "# Halterman example on page 79 (02-25-2018)\n",
    "\n",
    "x = 10\n",
    "y = 20\n",
    "b = (x != 10 and y != 20)\n",
    "print(b)"
   ]
  },
  {
   "cell_type": "markdown",
   "metadata": {},
   "source": [
    "4.7 Floating-point Equality"
   ]
  },
  {
   "cell_type": "code",
   "execution_count": 7,
   "metadata": {},
   "outputs": [
    {
     "name": "stdout",
     "output_type": "stream",
     "text": [
      "d1 = 0.010000000000000009 d2 = 0.009999999999999787\n",
      "d1 and d2 are different\n"
     ]
    }
   ],
   "source": [
    "# Listing 4.6: samedifferent.py (02-25-2018)\n",
    "\n",
    "d1 = 1.11 - 1.10\n",
    "d2 = 2.11 - 2.10\n",
    "print(\"d1 =\", d1, \"d2 =\", d2)\n",
    "if d1 == d2:  # d1 and d2 should be the same, but due to the\n",
    "              # imprecision of floating-point numbers and computers!\n",
    "    print(\"d1 and d2 are the same\")\n",
    "else:\n",
    "    print(\"d1 and d2 are different\")"
   ]
  },
  {
   "cell_type": "code",
   "execution_count": 8,
   "metadata": {},
   "outputs": [
    {
     "name": "stdout",
     "output_type": "stream",
     "text": [
      "d1 = 0.010000000000000009 d2 = 0.009999999999999787\n",
      "d1 and d2 are the same\n"
     ]
    }
   ],
   "source": [
    "# Listing 4.7: floatequals.py adapts Listing 4.6 using the approximately equal concept. (02-25-2018)\n",
    "\n",
    "d1 = 1.11 - 1.10\n",
    "d2 = 2.11 - 2.10\n",
    "print(\"d1 =\", d1, \"d2 =\", d2)\n",
    "diff = d1 - d2               # Compute the differnce of d1 - d2\n",
    "if diff < 0:                 # Compute the absolute vale if the difference is negative forcing a positive value.\n",
    "    diff = -diff             \n",
    "if diff < 0.0000001:         # Are the values close enough?\n",
    "    print('d1 and d2 are the same')\n",
    "else:\n",
    "    print('d1 and d2 are differnet')"
   ]
  },
  {
   "cell_type": "markdown",
   "metadata": {},
   "source": [
    "4.8 Nested Conditionals"
   ]
  },
  {
   "cell_type": "code",
   "execution_count": 15,
   "metadata": {},
   "outputs": [
    {
     "name": "stdout",
     "output_type": "stream",
     "text": [
      "Please enter an integer value in the range of 0...10: 6\n",
      "In range\n",
      "Your value is less than the requested range\n"
     ]
    }
   ],
   "source": [
    "# Listing 4.9: checkrange.py\n",
    "\n",
    "value = int(input(\"Please enter an integer value in the range of 0...10: \"))\n",
    "if value >= 0:         # First check\n",
    "    \n",
    "    if value <= 10:    # Second check\n",
    "        print(\"In range\")\n",
    "        print('Done')\n",
    "        \n",
    "print(\"Your value is less than the requested range\") # How to make this notice appear only if the value is less\n",
    "                                                     # than 0?"
   ]
  },
  {
   "cell_type": "code",
   "execution_count": 4,
   "metadata": {},
   "outputs": [
    {
     "name": "stdout",
     "output_type": "stream",
     "text": [
      "Please enter an integer value in the range of 0...10: 14\n",
      "Done\n"
     ]
    }
   ],
   "source": [
    "# Listing 4.10.1: newcheckrange.py\n",
    "\n",
    "value = int(input('Please enter an integer value in the range of 0...10: '))\n",
    "if value >= 0 and value <= 10:      # Only one conditional, though slightly more complicated.\n",
    "    print('In range')\n",
    "print('Done')"
   ]
  },
  {
   "cell_type": "code",
   "execution_count": 5,
   "metadata": {},
   "outputs": [
    {
     "name": "stdout",
     "output_type": "stream",
     "text": [
      "Please enter an integer value in the range of 0...10: 6\n",
      "In range\n",
      "Done\n"
     ]
    }
   ],
   "source": [
    "# Listing 4.10.2: betternewcheckrange.py\n",
    "\n",
    "value = int(input('Please enter an integer value in the range of 0...10: '))\n",
    "if 0 <= value <= 10:      # Only one conditional, though slightly more complicated. The same as a compound\n",
    "                          # inequality in Algebra.\n",
    "    print('In range')\n",
    "print('Done')"
   ]
  },
  {
   "cell_type": "code",
   "execution_count": 9,
   "metadata": {},
   "outputs": [
    {
     "name": "stdout",
     "output_type": "stream",
     "text": [
      "Please enter an integer value in the range of 0...10: 15\n",
      "15 is too large\n",
      "Done\n"
     ]
    }
   ],
   "source": [
    "# Listing 4.11: enhancedcheckrage.py\n",
    "\n",
    "# This program answers the question at the bottom of Listing 4.9 above.\n",
    "value = int(input('Please enter an integer value in the range of 0...10: '))\n",
    "if value >= 0:       # First check\n",
    "    if value <= 10:  # Second check\n",
    "        print(value, 'is in range')\n",
    "    else:            # This \"else\" goes with the second \"if\", directly above.\n",
    "        print(value, 'is too large')\n",
    "        \n",
    "else:                # This \"else\" is matched with the first \"if\".\n",
    "    print(value, 'is too small')\n",
    "print('Done')"
   ]
  },
  {
   "cell_type": "code",
   "execution_count": 1,
   "metadata": {},
   "outputs": [
    {
     "name": "stdout",
     "output_type": "stream",
     "text": [
      "Please enter an integer value in the range of 0...1023805\n",
      "1100100101\n"
     ]
    }
   ],
   "source": [
    "-\n",
    "    \n",
    "        "
   ]
  },
  {
   "cell_type": "code",
   "execution_count": 4,
   "metadata": {},
   "outputs": [
    {
     "name": "stdout",
     "output_type": "stream",
     "text": [
      "Please enter a time by entering the number of seconds10000\n",
      "2 hours 46 minutes 40 seconds "
     ]
    }
   ],
   "source": [
    "-\n",
    "\n",
    "    "
   ]
  },
  {
   "cell_type": "markdown",
   "metadata": {},
   "source": [
    " Multi-way Decision Statements\n",
    "   Note: Indenting makes the program easier to read!"
   ]
  },
  {
   "cell_type": "code",
   "execution_count": 7,
   "metadata": {},
   "outputs": [
    {
     "name": "stdout",
     "output_type": "stream",
     "text": [
      "Please enter an integer in the range of 0...5-3\n",
      "Too small\n",
      "Done\n"
     ]
    }
   ],
   "source": [
    "# Listing 4.17: digittoword.py \n",
    "\n",
    "# If one of many actions should be taken, then use nested if/else statements as the program \n",
    "# below demontrates. \n",
    "\n",
    "value = int(input('Please enter an integer in the range of 0...5'))\n",
    "\n",
    "if value < 0:\n",
    "    print(\"Too small\")\n",
    "else:\n",
    "    if value == 0:\n",
    "        print('zero')\n",
    "    else:\n",
    "        if value == 1:\n",
    "            print('one')\n",
    "        else:\n",
    "            if value == 2:\n",
    "                print('two')\n",
    "            else:\n",
    "                if value == 3:\n",
    "                    print('three')\n",
    "                else:\n",
    "                    if value == 4:\n",
    "                        print('four')\n",
    "                    else:\n",
    "                        if value == 5:\n",
    "                            print('five')\n",
    "                        else:\n",
    "                            print('Too large')\n",
    "print('Done')"
   ]
  },
  {
   "cell_type": "code",
   "execution_count": 17,
   "metadata": {},
   "outputs": [
    {
     "name": "stdout",
     "output_type": "stream",
     "text": [
      "Please enter an integer in the range of 0...5: 1\n",
      "one\n",
      "Done\n"
     ]
    }
   ],
   "source": [
    "# Listing 4.18: restyleddinittoword.py - Using the \"if/elif(else if)/else\" command to shorten\n",
    "#                                        reduce \"right drift\" as in Listing 4.17\n",
    "\n",
    "# When using elif the program will excute up to the line that satisfies the entered value.\n",
    "# This means that elif is more efficient than a if, because an if statement will check all \n",
    "# ifs before going to done.\n",
    "\n",
    "value = int(input('Please enter an integer in the range of 0...5: '))\n",
    "if value < 0:\n",
    "    print(\"Too small\")\n",
    "elif value == 0:\n",
    "    print('zero')\n",
    "elif value == 1:\n",
    "    print('one')\n",
    "elif value == 2:\n",
    "    print('two')\n",
    "elif value ==3:\n",
    "    print('three')\n",
    "elif value == 4:\n",
    "    print('four')\n",
    "elif value == 5:\n",
    "    print('five')\n",
    "else:\n",
    "    print(\"Too large\")\n",
    "print('Done')"
   ]
  },
  {
   "cell_type": "code",
   "execution_count": 20,
   "metadata": {},
   "outputs": [
    {
     "name": "stdout",
     "output_type": "stream",
     "text": [
      "Enter a dividend14\n",
      "Enter a divisor3\n",
      "4.666666666666667\n",
      "4.666666666666667\n"
     ]
    }
   ],
   "source": [
    "# Listing 4.24; safedivide.py - Uses if/else statements\n",
    "\n",
    "# Get a dividend and divisor from the user\n",
    "dividend = int(input('Enter a dividend'))\n",
    "divisor = int(input('Enter a divisor')) \n",
    "\n",
    "# We want to divide only if the divisor is not zero; otherwise, \n",
    "# we will print an error message\n",
    "if divisor != 0:\n",
    "    print(dividend/divisor)\n",
    "msg = dividend/divisor if divisor != 0 else 'Erro, cannot divide by zero'\n",
    "print(msg)"
   ]
  },
  {
   "cell_type": "code",
   "execution_count": 22,
   "metadata": {},
   "outputs": [
    {
     "name": "stdout",
     "output_type": "stream",
     "text": [
      " Enter a dividend 14\n",
      " Enter a divisor 0\n"
     ]
    }
   ],
   "source": [
    "# Listing 4.25: safedivideconditional.py - Uses conditional expression if -> else\n",
    "\n",
    "# Get a dividend and divisor from the user\n",
    "dividend = int(input(' Enter a dividend '))\n",
    "divisor = int(input(' Enter a divisor '))\n",
    "\n",
    "# We want to divide only if the divisor is not zero; otherwise, \n",
    "# we will print an error message\n",
    "msg = dividend/divisor if divisor != 0 else 'Error, cannot divide by zero'\n"
   ]
  },
  {
   "cell_type": "code",
   "execution_count": 26,
   "metadata": {},
   "outputs": [
    {
     "name": "stdout",
     "output_type": "stream",
     "text": [
      "Please enter a number: 5\n",
      "|5|= 5\n"
     ]
    }
   ],
   "source": [
    "# Listing 4.26: absvalueconditional.py - Uses conditional expression if -> else\n",
    "\n",
    "# Request a number from the user\n",
    "n = int(input('Please enter a number: '))\n",
    "print('|' , n , '|' '= ' , (-n if n < 0 else n), sep='')"
   ]
  },
  {
   "cell_type": "code",
   "execution_count": 28,
   "metadata": {},
   "outputs": [
    {
     "ename": "SyntaxError",
     "evalue": "invalid syntax (<ipython-input-28-01cbc2aa033d>, line 1)",
     "output_type": "error",
     "traceback": [
      "\u001b[0;36m  File \u001b[0;32m\"<ipython-input-28-01cbc2aa033d>\"\u001b[0;36m, line \u001b[0;32m1\u001b[0m\n\u001b[0;31m    3'hi'\u001b[0m\n\u001b[0m        ^\u001b[0m\n\u001b[0;31mSyntaxError\u001b[0m\u001b[0;31m:\u001b[0m invalid syntax\n"
     ]
    }
   ],
   "source": [
    "3'hi'"
   ]
  },
  {
   "cell_type": "markdown",
   "metadata": {},
   "source": [
    "4.13 Logic Complexity"
   ]
  },
  {
   "cell_type": "code",
   "execution_count": 2,
   "metadata": {},
   "outputs": [
    {
     "name": "stdout",
     "output_type": "stream",
     "text": [
      "Please enter four interger values\n",
      "Enter value 1: -3\n",
      "Enter value 2: -43\n",
      "Enter value 3: -1\n",
      "Enter value 4: 0\n",
      "The maxium number entered was: 0\n"
     ]
    }
   ],
   "source": [
    "# Listing 4.28: max4a.py \n",
    "\n",
    "# Get input values from user\n",
    "print('Please enter four interger values')\n",
    "num1 = int(input('Enter value 1: '))\n",
    "num2 = int(input('Enter value 2: '))\n",
    "num3 = int(input('Enter value 3: '))\n",
    "num4 = int(input('Enter value 4: '))\n",
    "\n",
    "# Compute the maximum value\n",
    "if num1 >= num2 and num1 >= num3 and num1 >= num4:\n",
    "    max = num1\n",
    "elif num2 >= num1 and num2 >= num3 and num2 >= num4:\n",
    "    max = num2\n",
    "elif num3 >= num1 and num3 >= num2 and num3 >= num4:\n",
    "    max = num3\n",
    "elif num4 >= num1 and num4 >= num2 and num4 >= num3:\n",
    "    max = num4\n",
    "\n",
    "# Report result\n",
    "print('The maxium number entered was:', max)"
   ]
  },
  {
   "cell_type": "code",
   "execution_count": null,
   "metadata": {
    "collapsed": true
   },
   "outputs": [],
   "source": [
    "# Listing 4.28: max4a.py \n",
    "\n",
    "# Get input values from user\n",
    "print('Please enter four interger values')\n",
    "num1 = int(input('Enter value 1: '))\n",
    "num2 = int(input('Enter value 2: '))\n",
    "num3 = int(input('Enter value 3: '))\n",
    "num4 = int(input('Enter value 4: '))\n",
    "\n",
    "# Compute the maximum value\n",
    "if num1 >= num2 and num1 >= num3 and num1 >= num4:\n",
    "    max = num1\n",
    "elif num2 >= num1 and num2 >= num3 and num2 >= num4:\n",
    "    max = num2\n",
    "elif num3 >= num1 and num3 >= num2 and num3 >= num4:\n",
    "    max = num3\n",
    "elif num4 >= num1 and num4 >= num2 and num4 >= num3:\n",
    "    max = num4\n",
    "\n",
    "# Report result\n",
    "print('The maxium number entered was:', max)"
   ]
  },
  {
   "cell_type": "code",
   "execution_count": null,
   "metadata": {
    "collapsed": true
   },
   "outputs": [],
   "source": []
  }
 ],
 "metadata": {
  "kernelspec": {
   "display_name": "Python 3",
   "language": "python",
   "name": "python3"
  },
  "language_info": {
   "codemirror_mode": {
    "name": "ipython",
    "version": 3
   },
   "file_extension": ".py",
   "mimetype": "text/x-python",
   "name": "python",
   "nbconvert_exporter": "python",
   "pygments_lexer": "ipython3",
   "version": "3.6.3"
  }
 },
 "nbformat": 4,
 "nbformat_minor": 2
}
